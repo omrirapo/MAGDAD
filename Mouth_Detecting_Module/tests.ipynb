{
 "cells": [
  {
   "cell_type": "code",
   "execution_count": 6,
   "outputs": [],
   "source": [
    "import time\n",
    "\n",
    "def wait(delay_amount):\n",
    "    prv_t = time.perf_counter()\n",
    "\n",
    "    while round((time.perf_counter() - prv_t) * 1000) / 1000 - 0.001 <= delay_amount:\n",
    "        pass\n",
    "    return time.perf_counter() - prv_t\n",
    "def sleep_wait(delay_amount):\n",
    "    prv_t = time.perf_counter()\n",
    "    time.sleep(delay_amount)\n",
    "    return time.perf_counter() - prv_t"
   ],
   "metadata": {
    "collapsed": false,
    "ExecuteTime": {
     "end_time": "2023-05-29T10:56:03.019452600Z",
     "start_time": "2023-05-29T10:56:03.014948600Z"
    }
   }
  },
  {
   "cell_type": "code",
   "execution_count": 53,
   "outputs": [
    {
     "data": {
      "text/plain": "0.1015010999981314"
     },
     "execution_count": 53,
     "metadata": {},
     "output_type": "execute_result"
    }
   ],
   "source": [
    "wait(0.1)"
   ],
   "metadata": {
    "collapsed": false,
    "ExecuteTime": {
     "end_time": "2023-05-24T18:38:24.957567400Z",
     "start_time": "2023-05-24T18:38:24.847717300Z"
    }
   }
  },
  {
   "cell_type": "code",
   "execution_count": 54,
   "outputs": [],
   "source": [
    "import typing\n",
    "\n",
    "from typing import Callable\n",
    "from time import perf_counter_ns\n",
    "\n",
    "from apscheduler.schedulers.background import BlockingScheduler\n",
    "from time import sleep\n",
    "import time\n",
    "import math\n",
    "\n",
    "DELAY = 0.00324\n",
    "CW = 1\n",
    "CCW = 0\n",
    "\n",
    "\n",
    "class StepperMotor:\n",
    "    def __init__(self, DIR: int, STEP: int, steps_per_rotation: int, millis_per_angle: float = None):\n",
    "        \"\"\"\n",
    "\n",
    "        :param DIR:\n",
    "        :param STEP:\n",
    "        :param steps_per_rotation:\n",
    "        :param millis_per_angle:\n",
    "        \"\"\"\n",
    "\n",
    "        self._DIR = DIR\n",
    "        self._STEP = STEP\n",
    "        self._steps_per_rotation = steps_per_rotation\n",
    "        self._millis_per_angle = millis_per_angle\n",
    "        self.angle = 0\n",
    "        self._speed = 0\n",
    "        self.wait_per_step = None\n",
    "        self._running_continues = False\n",
    "        self.sched = BlockingScheduler()\n",
    "\n",
    "    def _step(self):\n",
    "        \"\"\"\n",
    "\n",
    "        :return:\n",
    "        \"\"\"\n",
    "        print(\"high\")\n",
    "        sleep(DELAY)\n",
    "        print(\"low\")\n",
    "        sleep(DELAY)\n",
    "\n",
    "\n",
    "     def move_to_angle(self, new_angle):\n",
    "        \"\"\"\n",
    "        moves the motor to a new angle\n",
    "        :param new_angle: the new angle to move to in degrees\n",
    "        \"\"\"\n",
    "        rotations = (new_angle - self.angle) / 360\n",
    "        steps = round(self._steps_per_rotation * rotations)\n",
    "        if rotations > 0:\n",
    "            GPIO.output(self._DIR, CW)\n",
    "\n",
    "        else:\n",
    "            GPIO.output(self._DIR, CCW)\n",
    "            steps *= -1\n",
    "        for i in range(steps):\n",
    "            self.step()\n",
    "\n",
    "        self.angle = new_angle\n",
    "\n",
    "    def get_angle(self):\n",
    "        \"\"\"\n",
    "\n",
    "        :return: the current angle of the motor in degrees\n",
    "        \"\"\"\n",
    "        return self.angle\n",
    "\n",
    "    def move_to_x(self, new_x):\n",
    "        \"\"\"\n",
    "        moves the motor to a new x\n",
    "        :param new_x: in millimeters\n",
    "        \"\"\"\n",
    "        if self._millis_per_angle is None:\n",
    "            raise Exception(\"millis_per_angle is None\")\n",
    "        self.move_to_angle(((new_x - self.get_x()) / self._millis_per_angle))\n",
    "\n",
    "    def reset_location(self):\n",
    "        \"\"\"\n",
    "        resets the location stored to 0. this does not move the motor, only changes the stored location. for reseting the\n",
    "        motor when is in the wanted 0 position.\n",
    "        :return:\n",
    "        \"\"\"\n",
    "        self._set_angle(0)\n",
    "\n",
    "    def _set_x(self, new_x):\n",
    "        \"\"\"\n",
    "        sets the x of the motor without moving it\n",
    "        :param new_x: the new x in millimeters\n",
    "        \"\"\"\n",
    "        if self._millis_per_angle is None:\n",
    "            raise Exception(\"millis_per_angle is None\")\n",
    "        self._set_angle(((new_x - self.get_x()) / self._millis_per_angle))\n",
    "\n",
    "    def _set_angle(self, new_angle):\n",
    "        \"\"\"\n",
    "        sets the angle of the motor without moving it\n",
    "        :param new_angle: the new angle in degrees\n",
    "        \"\"\"\n",
    "        self.angle = new_angle\n",
    "\n",
    "    def get_x(self):\n",
    "        \"\"\"\n",
    "        the current x of the motor in millimeters\n",
    "        :return: x in millis\n",
    "        \"\"\"\n",
    "        if self._millis_per_angle is None:\n",
    "            raise Exception(\"millis_per_angle is None\")\n",
    "        return self.angle * self._millis_per_angle\n",
    "\n",
    "    def _dist_to_steps(self, dist):\n",
    "        \"\"\"\n",
    "        converts a distance in millimeters to steps\n",
    "        :param dist: the distance in millimeters\n",
    "        :return: the number of steps needed to move the distance\n",
    "        \"\"\"\n",
    "        return round(dist * self._steps_per_rotation / (self._millis_per_angle * 360))\n",
    "\n",
    "    def move(self, dist, duration):\n",
    "        \"\"\"\n",
    "        move dist in duration\n",
    "        :param dist: the distance in millis\n",
    "        :param duration: the time to move\n",
    "        \"\"\"\n",
    "        if dist == 0:\n",
    "            return\n",
    "        if duration == 0:\n",
    "            self.move_to_x(self.get_x() + dist)\n",
    "        num_of_steps = self._dist_to_steps(dist)\n",
    "        wait_time = duration / num_of_steps\n",
    "        for _ in range(num_of_steps):\n",
    "            cur_time = time.time()\n",
    "            self.step()\n",
    "            sleep(wait_time - (time.time() - cur_time))\n",
    "        self._set_x(self.get_x() + dist)\n"
   ],
   "metadata": {
    "collapsed": false,
    "ExecuteTime": {
     "end_time": "2023-05-24T18:38:25.019781400Z",
     "start_time": "2023-05-24T18:38:24.965969600Z"
    }
   }
  },
  {
   "cell_type": "code",
   "execution_count": null,
   "outputs": [],
   "source": [
    "shld = StepperMotor(1,2,200,130)\n"
   ],
   "metadata": {
    "collapsed": false,
    "ExecuteTime": {
     "end_time": "2023-05-24T18:38:45.040368Z",
     "start_time": "2023-05-24T18:38:24.987884200Z"
    },
    "pycharm": {
     "is_executing": true
    }
   }
  },
  {
   "cell_type": "code",
   "execution_count": 7,
   "outputs": [],
   "source": [],
   "metadata": {
    "collapsed": false,
    "ExecuteTime": {
     "end_time": "2023-05-29T10:59:36.763841800Z",
     "start_time": "2023-05-29T10:56:11.148828500Z"
    }
   }
  },
  {
   "cell_type": "markdown",
   "source": [],
   "metadata": {
    "collapsed": false
   }
  },
  {
   "cell_type": "markdown",
   "source": [],
   "metadata": {
    "collapsed": false
   }
  },
  {
   "cell_type": "code",
   "execution_count": 8,
   "outputs": [],
   "source": [
    "B = [ wait(0.2) for i in range(1000)]\n"
   ],
   "metadata": {
    "collapsed": false,
    "ExecuteTime": {
     "end_time": "2023-05-29T11:02:58.759906400Z",
     "start_time": "2023-05-29T10:59:36.779127Z"
    }
   }
  },
  {
   "cell_type": "code",
   "execution_count": 4,
   "outputs": [
    {
     "ename": "TypeError",
     "evalue": "unsupported operand type(s) for +: 'NoneType' and 'NoneType'",
     "output_type": "error",
     "traceback": [
      "\u001B[1;31m---------------------------------------------------------------------------\u001B[0m",
      "\u001B[1;31mTypeError\u001B[0m                                 Traceback (most recent call last)",
      "Cell \u001B[1;32mIn[4], line 4\u001B[0m\n\u001B[0;32m      2\u001B[0m \u001B[38;5;28;01mimport\u001B[39;00m \u001B[38;5;21;01mnumpy\u001B[39;00m \u001B[38;5;28;01mas\u001B[39;00m \u001B[38;5;21;01mnp\u001B[39;00m\n\u001B[0;32m      3\u001B[0m A1 \u001B[38;5;241m=\u001B[39m np\u001B[38;5;241m.\u001B[39marray(A)\n\u001B[1;32m----> 4\u001B[0m m \u001B[38;5;241m=\u001B[39m \u001B[43mnp\u001B[49m\u001B[38;5;241;43m.\u001B[39;49m\u001B[43mmean\u001B[49m\u001B[43m(\u001B[49m\u001B[43mA1\u001B[49m\u001B[43m)\u001B[49m\n\u001B[0;32m      5\u001B[0m s \u001B[38;5;241m=\u001B[39m np\u001B[38;5;241m.\u001B[39mstd(A1)\n\u001B[0;32m      6\u001B[0m a \u001B[38;5;241m=\u001B[39m(A1\u001B[38;5;241m-\u001B[39mm)\u001B[38;5;241m/\u001B[39ms\n",
      "File \u001B[1;32m<__array_function__ internals>:200\u001B[0m, in \u001B[0;36mmean\u001B[1;34m(*args, **kwargs)\u001B[0m\n",
      "File \u001B[1;32m~\\miniconda3\\lib\\site-packages\\numpy\\core\\fromnumeric.py:3464\u001B[0m, in \u001B[0;36mmean\u001B[1;34m(a, axis, dtype, out, keepdims, where)\u001B[0m\n\u001B[0;32m   3461\u001B[0m     \u001B[38;5;28;01melse\u001B[39;00m:\n\u001B[0;32m   3462\u001B[0m         \u001B[38;5;28;01mreturn\u001B[39;00m mean(axis\u001B[38;5;241m=\u001B[39maxis, dtype\u001B[38;5;241m=\u001B[39mdtype, out\u001B[38;5;241m=\u001B[39mout, \u001B[38;5;241m*\u001B[39m\u001B[38;5;241m*\u001B[39mkwargs)\n\u001B[1;32m-> 3464\u001B[0m \u001B[38;5;28;01mreturn\u001B[39;00m _methods\u001B[38;5;241m.\u001B[39m_mean(a, axis\u001B[38;5;241m=\u001B[39maxis, dtype\u001B[38;5;241m=\u001B[39mdtype,\n\u001B[0;32m   3465\u001B[0m                       out\u001B[38;5;241m=\u001B[39mout, \u001B[38;5;241m*\u001B[39m\u001B[38;5;241m*\u001B[39mkwargs)\n",
      "File \u001B[1;32m~\\miniconda3\\lib\\site-packages\\numpy\\core\\_methods.py:181\u001B[0m, in \u001B[0;36m_mean\u001B[1;34m(a, axis, dtype, out, keepdims, where)\u001B[0m\n\u001B[0;32m    178\u001B[0m         dtype \u001B[38;5;241m=\u001B[39m mu\u001B[38;5;241m.\u001B[39mdtype(\u001B[38;5;124m'\u001B[39m\u001B[38;5;124mf4\u001B[39m\u001B[38;5;124m'\u001B[39m)\n\u001B[0;32m    179\u001B[0m         is_float16_result \u001B[38;5;241m=\u001B[39m \u001B[38;5;28;01mTrue\u001B[39;00m\n\u001B[1;32m--> 181\u001B[0m ret \u001B[38;5;241m=\u001B[39m \u001B[43mumr_sum\u001B[49m\u001B[43m(\u001B[49m\u001B[43marr\u001B[49m\u001B[43m,\u001B[49m\u001B[43m \u001B[49m\u001B[43maxis\u001B[49m\u001B[43m,\u001B[49m\u001B[43m \u001B[49m\u001B[43mdtype\u001B[49m\u001B[43m,\u001B[49m\u001B[43m \u001B[49m\u001B[43mout\u001B[49m\u001B[43m,\u001B[49m\u001B[43m \u001B[49m\u001B[43mkeepdims\u001B[49m\u001B[43m,\u001B[49m\u001B[43m \u001B[49m\u001B[43mwhere\u001B[49m\u001B[38;5;241;43m=\u001B[39;49m\u001B[43mwhere\u001B[49m\u001B[43m)\u001B[49m\n\u001B[0;32m    182\u001B[0m \u001B[38;5;28;01mif\u001B[39;00m \u001B[38;5;28misinstance\u001B[39m(ret, mu\u001B[38;5;241m.\u001B[39mndarray):\n\u001B[0;32m    183\u001B[0m     \u001B[38;5;28;01mwith\u001B[39;00m _no_nep50_warning():\n",
      "\u001B[1;31mTypeError\u001B[0m: unsupported operand type(s) for +: 'NoneType' and 'NoneType'"
     ]
    }
   ],
   "source": [
    "import matplotlib.pyplot as plt\n",
    "import numpy as np\n",
    "A1 = np.array(A)\n",
    "m = np.mean(A1)\n",
    "s = np.std(A1)\n",
    "a =(A1-m)/s\n",
    "A2 = np.where((A<m),A1,1.0)\n",
    "\n",
    "print(m,s)\n",
    "plt.hist(A2, bins=300)\n",
    "\n"
   ],
   "metadata": {
    "collapsed": false,
    "ExecuteTime": {
     "end_time": "2023-05-29T10:55:03.000803800Z",
     "start_time": "2023-05-29T10:55:02.953208100Z"
    }
   }
  },
  {
   "cell_type": "code",
   "execution_count": null,
   "outputs": [],
   "source": [
    "plt.hist(A, bins=200)"
   ],
   "metadata": {
    "collapsed": false,
    "ExecuteTime": {
     "end_time": "2023-05-24T18:42:07.722173300Z",
     "start_time": "2023-05-24T18:42:07.166133700Z"
    },
    "pycharm": {
     "is_executing": true
    }
   }
  },
  {
   "cell_type": "code",
   "execution_count": null,
   "outputs": [],
   "source": [],
   "metadata": {
    "collapsed": false
   }
  }
 ],
 "metadata": {
  "kernelspec": {
   "display_name": "Python 3",
   "language": "python",
   "name": "python3"
  },
  "language_info": {
   "codemirror_mode": {
    "name": "ipython",
    "version": 2
   },
   "file_extension": ".py",
   "mimetype": "text/x-python",
   "name": "python",
   "nbconvert_exporter": "python",
   "pygments_lexer": "ipython2",
   "version": "2.7.6"
  }
 },
 "nbformat": 4,
 "nbformat_minor": 0
}
