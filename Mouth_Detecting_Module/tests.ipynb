{
 "cells": [
  {
   "cell_type": "code",
   "execution_count": 6,
   "outputs": [],
   "source": [
    "import time\n",
    "\n",
    "def wait(delay_amount):\n",
    "    prv_t = time.perf_counter()\n",
    "\n",
    "    while round((time.perf_counter() - prv_t) * 1000) / 1000 - 0.001 <= delay_amount:\n",
    "        pass\n",
    "    return time.perf_counter() - prv_t\n",
    "def sleep_wait(delay_amount):\n",
    "    prv_t = time.perf_counter()\n",
    "    time.sleep(delay_amount)\n",
    "    return time.perf_counter() - prv_t"
   ],
   "metadata": {
    "collapsed": false,
    "ExecuteTime": {
     "end_time": "2023-05-29T10:56:03.019452600Z",
     "start_time": "2023-05-29T10:56:03.014948600Z"
    }
   }
  },
  {
   "cell_type": "code",
   "execution_count": 53,
   "outputs": [
    {
     "data": {
      "text/plain": "0.1015010999981314"
     },
     "execution_count": 53,
     "metadata": {},
     "output_type": "execute_result"
    }
   ],
   "source": [
    "wait(0.1)"
   ],
   "metadata": {
    "collapsed": false,
    "ExecuteTime": {
     "end_time": "2023-05-24T18:38:24.957567400Z",
     "start_time": "2023-05-24T18:38:24.847717300Z"
    }
   }
  },
  {
   "cell_type": "code",
   "execution_count": 54,
   "outputs": [],
   "source": [
    "import typing\n",
    "from typing import Callable\n",
    "from time import perf_counter_ns\n",
    "\n",
    "from apscheduler.schedulers.background import BlockingScheduler\n",
    "from time import sleep\n",
    "import time\n",
    "import math\n",
    "\n",
    "DELAY = 0.00324\n",
    "CW = 1\n",
    "CCW = 0\n",
    "\n",
    "\n",
    "class StepperMotor:\n",
    "    def __init__(self, DIR: int, STEP: int, steps_per_rotation: int, millis_per_angle: float = None):\n",
    "        \"\"\"\n",
    "\n",
    "        :param DIR:\n",
    "        :param STEP:\n",
    "        :param steps_per_rotation:\n",
    "        :param millis_per_angle:\n",
    "        \"\"\"\n",
    "\n",
    "        self._DIR = DIR\n",
    "        self._STEP = STEP\n",
    "        self._steps_per_rotation = steps_per_rotation\n",
    "        self._millis_per_angle = millis_per_angle\n",
    "        self.angle = 0\n",
    "        self._speed = 0\n",
    "        self.wait_per_step = None\n",
    "        self._running_continues = False\n",
    "        self.sched = BlockingScheduler()\n",
    "\n",
    "    def _step(self):\n",
    "        \"\"\"\n",
    "\n",
    "        :return:\n",
    "        \"\"\"\n",
    "        print(\"high\")\n",
    "        sleep(DELAY)\n",
    "        print(\"low\")\n",
    "        sleep(DELAY)\n",
    "\n",
    "    def move_to_angle(self, new_angle):\n",
    "        \"\"\"\n",
    "\n",
    "        :param new_angle:\n",
    "        :return:\n",
    "        \"\"\"\n",
    "        rotations = (new_angle - self.angle) / 360\n",
    "        steps = round(self._steps_per_rotation * rotations)\n",
    "        if rotations > 0:\n",
    "            pass\n",
    "        else:\n",
    "            steps *= -1\n",
    "        for i in range(steps):\n",
    "            self._step()\n",
    "\n",
    "        self.angle = new_angle\n",
    "\n",
    "    def get_angle(self):\n",
    "        return self.angle\n",
    "\n",
    "    def move_to_x(self, new_x):\n",
    "        \"\"\"\n",
    "        :param new_x: in millis\n",
    "        \"\"\"\n",
    "        if self._millis_per_angle is None:\n",
    "            raise Exception(\"millis_per_angle is None\")\n",
    "        self.move_to_angle(((new_x - self.get_x()) / self._millis_per_angle))\n",
    "\n",
    "    def _set_x(self, new_x):\n",
    "        if self._millis_per_angle is None:\n",
    "            raise Exception(\"millis_per_angle is None\")\n",
    "        self._set_angle(((new_x - self.get_x()) / self._millis_per_angle))\n",
    "\n",
    "    def _set_angle(self, new_angle):\n",
    "        self.angle = new_angle\n",
    "\n",
    "    def get_x(self):\n",
    "        \"\"\"\n",
    "\n",
    "        :return: x in millis\n",
    "        \"\"\"\n",
    "        if self._millis_per_angle is None:\n",
    "            raise Exception(\"millis_per_angle is None\")\n",
    "        return self.angle * self._millis_per_angle\n",
    "\n",
    "    def _dist_to_steps(self, dist):\n",
    "        return round(dist * self._steps_per_rotation / (self._millis_per_angle * 360))\n",
    "\n",
    "    def move(self, dist, duration):\n",
    "        \"\"\"\n",
    "        move dist in duration\n",
    "        :param dist: the distance in millis\n",
    "        :param duration: the time to move\n",
    "        \"\"\"\n",
    "        starting_time = time.perf_counter()\n",
    "        if dist == 0:\n",
    "            return\n",
    "        if duration == 0:\n",
    "            self.move_to_x(self.get_x() + dist)\n",
    "        num_of_steps = self._dist_to_steps(dist)\n",
    "        wait_time = duration / num_of_steps\n",
    "        for i in range(num_of_steps):\n",
    "            cur_time = time.perf_counter()\n",
    "            self._step()\n",
    "            #wait_time = (duration - (time.time() - starting_time))/(num_of_steps-i)\n",
    "            print(f\"{i} wait time = {wait_time}\\t time left = {duration - (time.perf_counter() - starting_time)}\\t steps left = {num_of_steps-i}\")\n",
    "            before = time.perf_counter()\n",
    "            wait(wait_time - (time.perf_counter() - cur_time))\n",
    "            print(f\"sleep time = {time.perf_counter() - before}, intended = {wait_time - (time.perf_counter() - cur_time)}\")\n",
    "\n",
    "        self._set_x(self.get_x()+dist)\n"
   ],
   "metadata": {
    "collapsed": false,
    "ExecuteTime": {
     "end_time": "2023-05-24T18:38:25.019781400Z",
     "start_time": "2023-05-24T18:38:24.965969600Z"
    }
   }
  },
  {
   "cell_type": "code",
   "execution_count": 55,
   "outputs": [
    {
     "name": "stdout",
     "output_type": "stream",
     "text": [
      "high\n",
      "low\n",
      "0 wait time = 0.4444444444444444\t time left = 19.973179999971762\t steps left = 45\n",
      "sleep time = 0.41850459994748235, intended = -0.0009135555527690631\n",
      "high\n",
      "low\n",
      "1 wait time = 0.4444444444444444\t time left = 19.528905699960887\t steps left = 44\n",
      "sleep time = 0.41950539988465607, intended = -0.0007219554908159953\n",
      "high\n",
      "low\n",
      "2 wait time = 0.4444444444444444\t time left = 19.089405399980024\t steps left = 43\n",
      "sleep time = 0.4255049000494182, intended = -0.0010246555838320237\n",
      "high\n",
      "low\n",
      "3 wait time = 0.4444444444444444\t time left = 18.634698000038043\t steps left = 42\n",
      "sleep time = 0.4165046999696642, intended = -0.0011227555159065705\n",
      "high\n",
      "low\n",
      "4 wait time = 0.4444444444444444\t time left = 18.19004529993981\t steps left = 41\n",
      "sleep time = 0.41750389989465475, intended = -0.0011092555295262319\n",
      "high\n",
      "low\n",
      "5 wait time = 0.4444444444444444\t time left = 17.752251900034025\t steps left = 40\n",
      "sleep time = 0.4255051000509411, intended = -0.0012878554924908858\n",
      "high\n",
      "low\n",
      "6 wait time = 0.4444444444444444\t time left = 17.299737599911168\t steps left = 39\n",
      "sleep time = 0.4185038001742214, intended = -0.0007520556035969239\n",
      "high\n",
      "low\n",
      "7 wait time = 0.4444444444444444\t time left = 16.863250700058416\t steps left = 38\n",
      "sleep time = 0.4275112000759691, intended = -0.0009185555908415299\n",
      "high\n",
      "low\n",
      "8 wait time = 0.4444444444444444\t time left = 16.407981700031087\t steps left = 37\n",
      "sleep time = 0.4175044000148773, intended = -0.0007356554787192326\n",
      "high\n",
      "low\n",
      "9 wait time = 0.4444444444444444\t time left = 15.961759600089863\t steps left = 36\n",
      "sleep time = 0.4165042000822723, intended = -0.0007194555881950837\n",
      "high\n",
      "low\n",
      "10 wait time = 0.4444444444444444\t time left = 15.526198900071904\t steps left = 35\n",
      "sleep time = 0.4265044000931084, intended = -0.000956955417576788\n",
      "high\n",
      "low\n",
      "11 wait time = 0.4444444444444444\t time left = 15.074509599944577\t steps left = 34\n",
      "sleep time = 0.420503499917686, intended = -0.0011683556302968245\n",
      "high\n",
      "low\n",
      "12 wait time = 0.4444444444444444\t time left = 14.635698100086302\t steps left = 33\n",
      "sleep time = 0.427600699942559, intended = -0.0013620555918250066\n",
      "high\n",
      "low\n",
      "13 wait time = 0.4444444444444444\t time left = 14.181061000097543\t steps left = 32\n",
      "sleep time = 0.4185037000570446, intended = -0.0006971555348072034\n",
      "high\n",
      "low\n",
      "14 wait time = 0.4444444444444444\t time left = 13.741987399989739\t steps left = 31\n",
      "sleep time = 0.42450369987636805, intended = -0.000515155545953272\n",
      "high\n",
      "low\n",
      "15 wait time = 0.4444444444444444\t time left = 13.293968599988148\t steps left = 30\n",
      "sleep time = 0.4225033998955041, intended = -0.0014448555238131267\n",
      "high\n",
      "low\n",
      "16 wait time = 0.4444444444444444\t time left = 12.842897800030187\t steps left = 29\n",
      "sleep time = 0.41650370019488037, intended = -0.0005486554517928344\n",
      "high\n",
      "low\n",
      "17 wait time = 0.4444444444444444\t time left = 12.39457629993558\t steps left = 28\n",
      "sleep time = 0.4135040999390185, intended = -0.00076895561586654\n",
      "high\n",
      "low\n",
      "18 wait time = 0.4444444444444444\t time left = 11.958886000094935\t steps left = 27\n",
      "sleep time = 0.4235107998829335, intended = -0.0011903553321543914\n",
      "high\n",
      "low\n",
      "19 wait time = 0.4444444444444444\t time left = 11.503403200069442\t steps left = 26\n",
      "sleep time = 0.4135044999420643, intended = -0.0008988555572513324\n",
      "high\n",
      "low\n",
      "20 wait time = 0.4444444444444444\t time left = 11.07210380001925\t steps left = 25\n",
      "sleep time = 0.4275039001367986, intended = -0.0007008556793961507\n",
      "high\n",
      "low\n",
      "21 wait time = 0.4444444444444444\t time left = 10.611890000058338\t steps left = 24\n",
      "sleep time = 0.41250550001859665, intended = -0.0007349555898044091\n",
      "high\n",
      "low\n",
      "22 wait time = 0.4444444444444444\t time left = 10.177751200040802\t steps left = 23\n",
      "sleep time = 0.4235048000700772, intended = -0.0005461557820025664\n",
      "high\n",
      "low\n",
      "23 wait time = 0.4444444444444444\t time left = 9.723475900013\t steps left = 22\n",
      "sleep time = 0.4145050998777151, intended = -0.0007226556125614625\n",
      "high\n",
      "low\n",
      "24 wait time = 0.4444444444444444\t time left = 9.280124800046906\t steps left = 21\n",
      "sleep time = 0.41650639986619353, intended = -0.0008069554395560008\n",
      "high\n",
      "low\n",
      "25 wait time = 0.4444444444444444\t time left = 8.82926749996841\t steps left = 20\n",
      "sleep time = 0.4115049000829458, intended = -0.0012913554027262908\n",
      "high\n",
      "low\n",
      "26 wait time = 0.4444444444444444\t time left = 8.394010199932382\t steps left = 19\n",
      "sleep time = 0.42150699999183416, intended = -0.0007378554954711181\n",
      "high\n",
      "low\n",
      "27 wait time = 0.4444444444444444\t time left = 7.939135400112718\t steps left = 18\n",
      "sleep time = 0.41250450001098216, intended = -0.0013122554454538804\n",
      "high\n",
      "low\n",
      "28 wait time = 0.4444444444444444\t time left = 7.503675699932501\t steps left = 17\n",
      "sleep time = 0.4225053999107331, intended = -0.0010385555732581597\n",
      "high\n",
      "low\n",
      "29 wait time = 0.4444444444444444\t time left = 7.051530200056732\t steps left = 16\n",
      "sleep time = 0.4165044999681413, intended = -0.0014584556273702365\n",
      "high\n",
      "low\n",
      "30 wait time = 0.4444444444444444\t time left = 6.600825099973008\t steps left = 15\n",
      "sleep time = 0.4115211998578161, intended = -0.0011722555435780269\n",
      "high\n",
      "low\n",
      "31 wait time = 0.4444444444444444\t time left = 6.156046899966896\t steps left = 14\n",
      "sleep time = 0.41250410000793636, intended = -0.0012338555469695311\n",
      "high\n",
      "low\n",
      "32 wait time = 0.4444444444444444\t time left = 5.709865499986336\t steps left = 13\n",
      "sleep time = 0.41150499996729195, intended = -0.0006341555207554084\n",
      "high\n",
      "low\n",
      "33 wait time = 0.4444444444444444\t time left = 5.27204619999975\t steps left = 12\n",
      "sleep time = 0.4195141000673175, intended = -0.0013546555354777556\n",
      "high\n",
      "low\n",
      "34 wait time = 0.4444444444444444\t time left = 4.826263600029051\t steps left = 11\n",
      "sleep time = 0.4195037002209574, intended = -0.0011630554735246879\n",
      "high\n",
      "low\n",
      "35 wait time = 0.4444444444444444\t time left = 4.374567199964076\t steps left = 10\n",
      "sleep time = 0.41350540006533265, intended = -0.0011569555434916001\n",
      "high\n",
      "low\n",
      "36 wait time = 0.4444444444444444\t time left = 3.939051500055939\t steps left = 9\n",
      "sleep time = 0.4235036000609398, intended = -0.0009791553537878972\n",
      "high\n",
      "low\n",
      "37 wait time = 0.4444444444444444\t time left = 3.483239100081846\t steps left = 8\n",
      "sleep time = 0.41350420005619526, intended = -0.0012656555562797767\n",
      "high\n",
      "low\n",
      "38 wait time = 0.4444444444444444\t time left = 3.0460534999147058\t steps left = 7\n",
      "sleep time = 0.4215040998533368, intended = -0.0006628553900454026\n",
      "high\n",
      "low\n",
      "39 wait time = 0.4444444444444444\t time left = 2.5939647001214325\t steps left = 6\n",
      "sleep time = 0.4145040998701006, intended = -0.0005405555065307599\n",
      "high\n",
      "low\n",
      "40 wait time = 0.4444444444444444\t time left = 2.1576006000395864\t steps left = 5\n",
      "sleep time = 0.4235040000639856, intended = -0.0008577555935416203\n",
      "high\n",
      "low\n",
      "41 wait time = 0.4444444444444444\t time left = 1.7117781001143157\t steps left = 4\n",
      "sleep time = 0.42350370017811656, intended = -0.0012731554969731551\n",
      "high\n",
      "low\n",
      "42 wait time = 0.4444444444444444\t time left = 1.260422500083223\t steps left = 3\n",
      "sleep time = 0.41750469990074635, intended = -0.0008310555066499692\n",
      "high\n",
      "low\n",
      "43 wait time = 0.4444444444444444\t time left = 0.8220683000981808\t steps left = 2\n",
      "sleep time = 0.4245043999981135, intended = -0.0008179555233154279\n",
      "high\n",
      "low\n",
      "44 wait time = 0.4444444444444444\t time left = 0.3752685999497771\t steps left = 1\n",
      "sleep time = 0.4235040999483317, intended = -0.0011647556028846484\n"
     ]
    },
    {
     "data": {
      "text/plain": "20.050304651260376"
     },
     "execution_count": 55,
     "metadata": {},
     "output_type": "execute_result"
    }
   ],
   "source": [
    "stepper = StepperMotor(None, None, 200, 0.3670875420875421)\n",
    "now = time.time()\n",
    "stepper.move(30,20)\n",
    "time.time()-now"
   ],
   "metadata": {
    "collapsed": false,
    "ExecuteTime": {
     "end_time": "2023-05-24T18:38:45.040368Z",
     "start_time": "2023-05-24T18:38:24.987884200Z"
    }
   }
  },
  {
   "cell_type": "code",
   "execution_count": 7,
   "outputs": [],
   "source": [
    "A = [ sleep_wait(0.2) for i in range(1000)]"
   ],
   "metadata": {
    "collapsed": false,
    "ExecuteTime": {
     "end_time": "2023-05-29T10:59:36.763841800Z",
     "start_time": "2023-05-29T10:56:11.148828500Z"
    }
   }
  },
  {
   "cell_type": "markdown",
   "source": [],
   "metadata": {
    "collapsed": false
   }
  },
  {
   "cell_type": "code",
   "execution_count": 8,
   "outputs": [],
   "source": [
    "B = [ wait(0.2) for i in range(1000)]\n"
   ],
   "metadata": {
    "collapsed": false,
    "ExecuteTime": {
     "end_time": "2023-05-29T11:02:58.759906400Z",
     "start_time": "2023-05-29T10:59:36.779127Z"
    }
   }
  },
  {
   "cell_type": "code",
   "execution_count": 4,
   "outputs": [
    {
     "ename": "TypeError",
     "evalue": "unsupported operand type(s) for +: 'NoneType' and 'NoneType'",
     "output_type": "error",
     "traceback": [
      "\u001B[1;31m---------------------------------------------------------------------------\u001B[0m",
      "\u001B[1;31mTypeError\u001B[0m                                 Traceback (most recent call last)",
      "Cell \u001B[1;32mIn[4], line 4\u001B[0m\n\u001B[0;32m      2\u001B[0m \u001B[38;5;28;01mimport\u001B[39;00m \u001B[38;5;21;01mnumpy\u001B[39;00m \u001B[38;5;28;01mas\u001B[39;00m \u001B[38;5;21;01mnp\u001B[39;00m\n\u001B[0;32m      3\u001B[0m A1 \u001B[38;5;241m=\u001B[39m np\u001B[38;5;241m.\u001B[39marray(A)\n\u001B[1;32m----> 4\u001B[0m m \u001B[38;5;241m=\u001B[39m \u001B[43mnp\u001B[49m\u001B[38;5;241;43m.\u001B[39;49m\u001B[43mmean\u001B[49m\u001B[43m(\u001B[49m\u001B[43mA1\u001B[49m\u001B[43m)\u001B[49m\n\u001B[0;32m      5\u001B[0m s \u001B[38;5;241m=\u001B[39m np\u001B[38;5;241m.\u001B[39mstd(A1)\n\u001B[0;32m      6\u001B[0m a \u001B[38;5;241m=\u001B[39m(A1\u001B[38;5;241m-\u001B[39mm)\u001B[38;5;241m/\u001B[39ms\n",
      "File \u001B[1;32m<__array_function__ internals>:200\u001B[0m, in \u001B[0;36mmean\u001B[1;34m(*args, **kwargs)\u001B[0m\n",
      "File \u001B[1;32m~\\miniconda3\\lib\\site-packages\\numpy\\core\\fromnumeric.py:3464\u001B[0m, in \u001B[0;36mmean\u001B[1;34m(a, axis, dtype, out, keepdims, where)\u001B[0m\n\u001B[0;32m   3461\u001B[0m     \u001B[38;5;28;01melse\u001B[39;00m:\n\u001B[0;32m   3462\u001B[0m         \u001B[38;5;28;01mreturn\u001B[39;00m mean(axis\u001B[38;5;241m=\u001B[39maxis, dtype\u001B[38;5;241m=\u001B[39mdtype, out\u001B[38;5;241m=\u001B[39mout, \u001B[38;5;241m*\u001B[39m\u001B[38;5;241m*\u001B[39mkwargs)\n\u001B[1;32m-> 3464\u001B[0m \u001B[38;5;28;01mreturn\u001B[39;00m _methods\u001B[38;5;241m.\u001B[39m_mean(a, axis\u001B[38;5;241m=\u001B[39maxis, dtype\u001B[38;5;241m=\u001B[39mdtype,\n\u001B[0;32m   3465\u001B[0m                       out\u001B[38;5;241m=\u001B[39mout, \u001B[38;5;241m*\u001B[39m\u001B[38;5;241m*\u001B[39mkwargs)\n",
      "File \u001B[1;32m~\\miniconda3\\lib\\site-packages\\numpy\\core\\_methods.py:181\u001B[0m, in \u001B[0;36m_mean\u001B[1;34m(a, axis, dtype, out, keepdims, where)\u001B[0m\n\u001B[0;32m    178\u001B[0m         dtype \u001B[38;5;241m=\u001B[39m mu\u001B[38;5;241m.\u001B[39mdtype(\u001B[38;5;124m'\u001B[39m\u001B[38;5;124mf4\u001B[39m\u001B[38;5;124m'\u001B[39m)\n\u001B[0;32m    179\u001B[0m         is_float16_result \u001B[38;5;241m=\u001B[39m \u001B[38;5;28;01mTrue\u001B[39;00m\n\u001B[1;32m--> 181\u001B[0m ret \u001B[38;5;241m=\u001B[39m \u001B[43mumr_sum\u001B[49m\u001B[43m(\u001B[49m\u001B[43marr\u001B[49m\u001B[43m,\u001B[49m\u001B[43m \u001B[49m\u001B[43maxis\u001B[49m\u001B[43m,\u001B[49m\u001B[43m \u001B[49m\u001B[43mdtype\u001B[49m\u001B[43m,\u001B[49m\u001B[43m \u001B[49m\u001B[43mout\u001B[49m\u001B[43m,\u001B[49m\u001B[43m \u001B[49m\u001B[43mkeepdims\u001B[49m\u001B[43m,\u001B[49m\u001B[43m \u001B[49m\u001B[43mwhere\u001B[49m\u001B[38;5;241;43m=\u001B[39;49m\u001B[43mwhere\u001B[49m\u001B[43m)\u001B[49m\n\u001B[0;32m    182\u001B[0m \u001B[38;5;28;01mif\u001B[39;00m \u001B[38;5;28misinstance\u001B[39m(ret, mu\u001B[38;5;241m.\u001B[39mndarray):\n\u001B[0;32m    183\u001B[0m     \u001B[38;5;28;01mwith\u001B[39;00m _no_nep50_warning():\n",
      "\u001B[1;31mTypeError\u001B[0m: unsupported operand type(s) for +: 'NoneType' and 'NoneType'"
     ]
    }
   ],
   "source": [
    "import matplotlib.pyplot as plt\n",
    "import numpy as np\n",
    "A1 = np.array(A)\n",
    "m = np.mean(A1)\n",
    "s = np.std(A1)\n",
    "a =(A1-m)/s\n",
    "A2 = np.where((A<m),A1,1.0)\n",
    "\n",
    "print(m,s)\n",
    "plt.hist(A2, bins=300)\n",
    "\n"
   ],
   "metadata": {
    "collapsed": false,
    "ExecuteTime": {
     "end_time": "2023-05-29T10:55:03.000803800Z",
     "start_time": "2023-05-29T10:55:02.953208100Z"
    }
   }
  },
  {
   "cell_type": "code",
   "execution_count": 59,
   "outputs": [
    {
     "data": {
      "text/plain": "(array([981.,   1.,   1.,   3.,   1.,   2.,   1.,   0.,   0.,   0.,   0.,\n          2.,   0.,   0.,   0.,   0.,   0.,   0.,   0.,   0.,   0.,   0.,\n          0.,   0.,   0.,   0.,   0.,   0.,   0.,   0.,   2.,   0.,   1.,\n          0.,   0.,   0.,   0.,   1.,   0.,   0.,   1.,   0.,   0.,   0.,\n          1.,   1.,   0.,   0.,   0.,   0.,   0.,   0.,   0.,   0.,   0.,\n          0.,   0.,   0.,   0.,   0.,   0.,   0.,   0.,   0.,   0.,   0.,\n          0.,   0.,   0.,   0.,   0.,   0.,   0.,   0.,   0.,   0.,   0.,\n          0.,   0.,   0.,   0.,   0.,   0.,   0.,   0.,   0.,   0.,   0.,\n          0.,   0.,   0.,   0.,   0.,   0.,   0.,   0.,   0.,   0.,   0.,\n          0.,   0.,   0.,   0.,   0.,   0.,   0.,   0.,   0.,   0.,   0.,\n          0.,   0.,   0.,   0.,   0.,   0.,   0.,   0.,   0.,   0.,   0.,\n          0.,   0.,   0.,   0.,   0.,   0.,   0.,   0.,   0.,   0.,   0.,\n          0.,   0.,   0.,   0.,   0.,   0.,   0.,   0.,   0.,   0.,   0.,\n          0.,   0.,   0.,   0.,   0.,   0.,   0.,   0.,   0.,   0.,   0.,\n          0.,   0.,   0.,   0.,   0.,   0.,   0.,   0.,   0.,   0.,   0.,\n          0.,   0.,   0.,   0.,   0.,   0.,   0.,   0.,   0.,   0.,   0.,\n          0.,   0.,   0.,   0.,   0.,   0.,   0.,   0.,   0.,   0.,   0.,\n          0.,   0.,   0.,   0.,   0.,   0.,   0.,   0.,   0.,   0.,   0.,\n          0.,   1.]),\n array([0.2015002 , 0.2015012 , 0.20150221, 0.20150321, 0.20150421,\n        0.20150522, 0.20150622, 0.20150722, 0.20150822, 0.20150923,\n        0.20151023, 0.20151123, 0.20151224, 0.20151324, 0.20151424,\n        0.20151525, 0.20151625, 0.20151725, 0.20151825, 0.20151926,\n        0.20152026, 0.20152126, 0.20152227, 0.20152327, 0.20152427,\n        0.20152528, 0.20152628, 0.20152728, 0.20152828, 0.20152929,\n        0.20153029, 0.20153129, 0.2015323 , 0.2015333 , 0.2015343 ,\n        0.20153531, 0.20153631, 0.20153731, 0.20153831, 0.20153932,\n        0.20154032, 0.20154132, 0.20154233, 0.20154333, 0.20154433,\n        0.20154534, 0.20154634, 0.20154734, 0.20154834, 0.20154935,\n        0.20155035, 0.20155135, 0.20155236, 0.20155336, 0.20155436,\n        0.20155537, 0.20155637, 0.20155737, 0.20155837, 0.20155938,\n        0.20156038, 0.20156138, 0.20156239, 0.20156339, 0.20156439,\n        0.2015654 , 0.2015664 , 0.2015674 , 0.2015684 , 0.20156941,\n        0.20157041, 0.20157141, 0.20157242, 0.20157342, 0.20157442,\n        0.20157543, 0.20157643, 0.20157743, 0.20157843, 0.20157944,\n        0.20158044, 0.20158144, 0.20158245, 0.20158345, 0.20158445,\n        0.20158546, 0.20158646, 0.20158746, 0.20158846, 0.20158947,\n        0.20159047, 0.20159147, 0.20159248, 0.20159348, 0.20159448,\n        0.20159549, 0.20159649, 0.20159749, 0.20159849, 0.2015995 ,\n        0.2016005 , 0.2016015 , 0.20160251, 0.20160351, 0.20160451,\n        0.20160552, 0.20160652, 0.20160752, 0.20160852, 0.20160953,\n        0.20161053, 0.20161153, 0.20161254, 0.20161354, 0.20161454,\n        0.20161555, 0.20161655, 0.20161755, 0.20161855, 0.20161956,\n        0.20162056, 0.20162156, 0.20162257, 0.20162357, 0.20162457,\n        0.20162558, 0.20162658, 0.20162758, 0.20162858, 0.20162959,\n        0.20163059, 0.20163159, 0.2016326 , 0.2016336 , 0.2016346 ,\n        0.20163561, 0.20163661, 0.20163761, 0.20163861, 0.20163962,\n        0.20164062, 0.20164162, 0.20164263, 0.20164363, 0.20164463,\n        0.20164564, 0.20164664, 0.20164764, 0.20164864, 0.20164965,\n        0.20165065, 0.20165165, 0.20165266, 0.20165366, 0.20165466,\n        0.20165567, 0.20165667, 0.20165767, 0.20165867, 0.20165968,\n        0.20166068, 0.20166168, 0.20166269, 0.20166369, 0.20166469,\n        0.2016657 , 0.2016667 , 0.2016677 , 0.2016687 , 0.20166971,\n        0.20167071, 0.20167171, 0.20167272, 0.20167372, 0.20167472,\n        0.20167573, 0.20167673, 0.20167773, 0.20167873, 0.20167974,\n        0.20168074, 0.20168174, 0.20168275, 0.20168375, 0.20168475,\n        0.20168576, 0.20168676, 0.20168776, 0.20168876, 0.20168977,\n        0.20169077, 0.20169177, 0.20169278, 0.20169378, 0.20169478,\n        0.20169579, 0.20169679, 0.20169779, 0.20169879, 0.2016998 ,\n        0.2017008 ]),\n <BarContainer object of 200 artists>)"
     },
     "execution_count": 59,
     "metadata": {},
     "output_type": "execute_result"
    },
    {
     "data": {
      "text/plain": "<Figure size 640x480 with 1 Axes>",
      "image/png": "[encoded data removed]"
     },
     "metadata": {},
     "output_type": "display_data"
    }
   ],
   "source": [
    "plt.hist(A, bins=200)\n"
   ],
   "metadata": {
    "collapsed": false,
    "ExecuteTime": {
     "end_time": "2023-05-24T18:42:07.722173300Z",
     "start_time": "2023-05-24T18:42:07.166133700Z"
    }
   }
  }
 ],
 "metadata": {
  "kernelspec": {
   "display_name": "Python 3",
   "language": "python",
   "name": "python3"
  },
  "language_info": {
   "codemirror_mode": {
    "name": "ipython",
    "version": 2
   },
   "file_extension": ".py",
   "mimetype": "text/x-python",
   "name": "python",
   "nbconvert_exporter": "python",
   "pygments_lexer": "ipython2",
   "version": "2.7.6"
  }
 },
 "nbformat": 4,
 "nbformat_minor": 0
}
